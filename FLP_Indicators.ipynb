{
 "cells": [
  {
   "cell_type": "code",
   "execution_count": null,
   "metadata": {},
   "outputs": [],
   "source": [
    "import urbanpy as up\n",
    "import geopandas as gpd\n",
    "import pandas as pd\n",
    "import numpy as np\n",
    "import matplotlib.pyplot as plt\n",
    "import seaborn as sns\n",
    "from math import radians"
   ]
  },
  {
   "cell_type": "markdown",
   "metadata": {},
   "source": [
    "# Adquisicion de datos"
   ]
  },
  {
   "cell_type": "markdown",
   "metadata": {},
   "source": [
    "## Limites de la ciudad"
   ]
  },
  {
   "cell_type": "code",
   "execution_count": null,
   "metadata": {},
   "outputs": [],
   "source": [
    "sjl_poly = up.download.download_osm(0, 'San Juan de Lurigancho, Lima')"
   ]
  },
  {
   "cell_type": "markdown",
   "metadata": {},
   "source": [
    "## Hexagonos de la cuidad"
   ]
  },
  {
   "cell_type": "code",
   "execution_count": null,
   "metadata": {},
   "outputs": [],
   "source": [
    "sjl_hexs, sjl_hexs_centroids = up.geom.gen_hexagons(9, sjl_poly) # approx 0.1053325 km2 hexagons"
   ]
  },
  {
   "cell_type": "markdown",
   "metadata": {},
   "source": [
    "## Poblacion estimada por hexagono"
   ]
  },
  {
   "cell_type": "code",
   "execution_count": null,
   "metadata": {},
   "outputs": [],
   "source": [
    "pop_peru = up.download.download_hdx(\"4e74db39-87f1-4383-9255-eaf8ebceb0c9/resource/317f1c39-8417-4bde-a076-99bd37feefce/download/population_per_2018-10-01.csv.zip\")\n",
    "pop_sjl = up.geom.filter_population(pop_peru, sjl_poly)\n",
    "\n",
    "sjl_hexs_pop = up.geom.merge_shape_hex(sjl_hexs, pop_sjl, how='inner', op='within', agg={'population_2020': 'sum'})\n",
    "sjl_hexs_pop.plot(column='population_2020', missing_kwds={'color': 'grey'})"
   ]
  },
  {
   "cell_type": "code",
   "execution_count": null,
   "metadata": {},
   "outputs": [],
   "source": [
    "sjl_hexs.loc[sjl_hexs_pop.index, 'population_2020'] = sjl_hexs_pop['population_2020'].fillna(0).values"
   ]
  },
  {
   "cell_type": "markdown",
   "metadata": {},
   "source": [
    "## Datos geoespaciales de mercados "
   ]
  },
  {
   "cell_type": "code",
   "execution_count": null,
   "metadata": {},
   "outputs": [],
   "source": [
    "sjl_markets =  gpd.read_file('inputs/flp_sjl/selected_facilities_sjl.shp') # contains markets & possible markets positions\n",
    "sjl_markets = sjl_markets.to_crs('EPSG:4326')"
   ]
  },
  {
   "cell_type": "code",
   "execution_count": null,
   "metadata": {},
   "outputs": [],
   "source": [
    "# Get old markets positions\n",
    "sjl_old_markets = sjl_markets[sjl_markets['is_market']==1]\n",
    "sjl_old_markets.shape"
   ]
  },
  {
   "cell_type": "markdown",
   "metadata": {},
   "source": [
    "## Datos geoespaciales de posibles mercados (parques y lozas)"
   ]
  },
  {
   "cell_type": "code",
   "execution_count": null,
   "metadata": {},
   "outputs": [],
   "source": [
    "parques_lozas = gpd.read_file('outputs/parques_lozas_lima_metropolitana/parques_lozas_lima_metropolitana/parques_lozas_lima_metropolitana.shp')\n",
    "parques_lozas.crs = 'EPSG:4326'"
   ]
  },
  {
   "cell_type": "code",
   "execution_count": null,
   "metadata": {},
   "outputs": [],
   "source": [
    "parques_lozas.head()"
   ]
  },
  {
   "cell_type": "markdown",
   "metadata": {},
   "source": [
    "# Calculo de indicadores"
   ]
  },
  {
   "cell_type": "markdown",
   "metadata": {},
   "source": [
    "## Movimiento (estimado) de personas por mercado"
   ]
  },
  {
   "cell_type": "code",
   "execution_count": null,
   "metadata": {},
   "outputs": [],
   "source": [
    "from scipy.spatial import cKDTree"
   ]
  },
  {
   "cell_type": "code",
   "execution_count": null,
   "metadata": {},
   "outputs": [],
   "source": [
    "def osrm_routes(origin, destination, profile):\n",
    "    try:\n",
    "        orig = f'{origin.x},{origin.y}'\n",
    "        dest = f\"{destination.x},{destination.y}\"\n",
    "        url = f'http://localhost:5000/route/v1/{profile}/{orig};{dest}' # Local osrm server\n",
    "        response = requests.get(url, params={'overview': 'false'})\n",
    "        data = response.json()['routes'][0]\n",
    "        return [data['distance'], data['duration']]\n",
    "    except Exception as err:\n",
    "        print(err)\n",
    "        print(response.reason)\n",
    "        print(response.url)"
   ]
  },
  {
   "cell_type": "code",
   "execution_count": null,
   "metadata": {},
   "outputs": [],
   "source": [
    "# Creamos un KDTree para buscar el vecino espacial más cercano\n",
    "kdtree = cKDTree(data=sjl_old_markets[['lon','lat']].values)"
   ]
  },
  {
   "cell_type": "code",
   "execution_count": null,
   "metadata": {},
   "outputs": [],
   "source": [
    "sjl_hexs_centroids.loc[:,'nn_market'] = sjl_hexs_centroids.geometry.apply(\n",
    "    lambda geom: kdtree.query([geom.x, geom.y])[1]\n",
    ")"
   ]
  },
  {
   "cell_type": "code",
   "execution_count": null,
   "metadata": {},
   "outputs": [],
   "source": [
    "import requests"
   ]
  },
  {
   "cell_type": "code",
   "execution_count": null,
   "metadata": {},
   "outputs": [],
   "source": [
    "from tqdm import tqdm "
   ]
  },
  {
   "cell_type": "code",
   "execution_count": null,
   "metadata": {},
   "outputs": [],
   "source": [
    "tqdm.pandas()"
   ]
  },
  {
   "cell_type": "code",
   "execution_count": null,
   "metadata": {},
   "outputs": [],
   "source": [
    "# Distancia (km) y duración (seconds) del viaje a pie\n",
    "sjl_hexs_centroids[['dist_nn_market_walk', 'dur_nn_market_walk']] = sjl_hexs_centroids.progress_apply(\n",
    "    lambda row: osrm_routes(\n",
    "        origin=row.geometry, \n",
    "        destination = sjl_old_markets.iloc[row['nn_market']].geometry,\n",
    "        profile = 'walking'\n",
    "    ),\n",
    "    result_type='expand',\n",
    "    axis=1,\n",
    ")"
   ]
  },
  {
   "cell_type": "code",
   "execution_count": null,
   "metadata": {},
   "outputs": [],
   "source": [
    "(sjl_hexs_centroids[['dist_nn_market_walk', 'dur_nn_market_walk']] / [1000, 60]).describe()"
   ]
  },
  {
   "cell_type": "code",
   "execution_count": null,
   "metadata": {},
   "outputs": [],
   "source": [
    "# Agregar las columnas al GeoDataFrame hexágonos\n",
    "sjl_hexs.loc[sjl_hexs_centroids.index,'dist_nn_market_walk'] = sjl_hexs_centroids['dist_nn_market_walk'].values / 1000 # meters to km\n",
    "sjl_hexs.loc[sjl_hexs_centroids.index,'dur_nn_market_walk'] = sjl_hexs_centroids['dur_nn_market_walk'].values / 60 # seconds to minutes"
   ]
  },
  {
   "cell_type": "code",
   "execution_count": null,
   "metadata": {},
   "outputs": [],
   "source": [
    "sjl_hexs.loc[sjl_hexs_centroids.index,'nn_market'] = sjl_hexs_centroids['nn_market'].values"
   ]
  },
  {
   "cell_type": "code",
   "execution_count": null,
   "metadata": {},
   "outputs": [],
   "source": [
    "sjl_old_markets_proj = sjl_old_markets.to_crs('EPSG:4326')"
   ]
  },
  {
   "cell_type": "code",
   "execution_count": null,
   "metadata": {},
   "outputs": [],
   "source": [
    "sjl_old_markets_proj_in_hex = gpd.sjoin(\n",
    "    sjl_old_markets_proj,\n",
    "    sjl_hexs,\n",
    "    how = 'left',\n",
    "    op='within'\n",
    ")"
   ]
  },
  {
   "cell_type": "code",
   "execution_count": null,
   "metadata": {},
   "outputs": [],
   "source": [
    "markets_per_hex = sjl_old_markets_proj_in_hex.groupby('index_right')['id'].count()"
   ]
  },
  {
   "cell_type": "code",
   "execution_count": null,
   "metadata": {},
   "outputs": [],
   "source": [
    "sjl_hexs.loc[markets_per_hex.index, 'n_markets'] = markets_per_hex.values\n",
    "sjl_hexs['n_markets'] = sjl_hexs['n_markets'].fillna(0)"
   ]
  },
  {
   "cell_type": "code",
   "execution_count": null,
   "metadata": {},
   "outputs": [],
   "source": [
    "import math\n",
    "\n",
    "def create_duration_labels(durations):\n",
    "    default_bins = [0, 15, 30, 45, 60, 90, 120]\n",
    "    default_labels = [\"Menos de 15\", \"De 15 a 30\", \"De 30 a 45\", \"De 45 a 60\", \"De 60 a 90\", \"De 90 a 120\", \"Más de 120\"]\n",
    "\n",
    "    bins_ = default_bins.copy()\n",
    "\n",
    "    max_duration_raw = durations.max()\n",
    "    max_duration_asint = math.ceil(max_duration_raw)\n",
    "\n",
    "    bins_.insert(0, max_duration_asint)\n",
    "    bins_ = sorted(set(bins_))\n",
    "    ix = bins_.index(max_duration_asint)\n",
    "    \n",
    "    if (ix + 1) >= len(default_bins) and max_duration_asint != 120:\n",
    "        default_bins.append(max_duration_asint)\n",
    "    \n",
    "    return default_bins[:ix + 1], default_labels[:ix]"
   ]
  },
  {
   "cell_type": "code",
   "execution_count": null,
   "metadata": {},
   "outputs": [],
   "source": [
    "custom_bins, custom_labels = create_duration_labels(sjl_hexs['dur_nn_market_walk'])\n",
    "\n",
    "# Generamos cortes en la variable duración del viaje\n",
    "sjl_hexs['dur_nn_market_walk_bins'] = pd.cut(\n",
    "    sjl_hexs['dur_nn_market_walk'], \n",
    "    bins=custom_bins,\n",
    "    labels=custom_labels\n",
    ")"
   ]
  },
  {
   "cell_type": "code",
   "execution_count": null,
   "metadata": {},
   "outputs": [],
   "source": [
    "# Verificamos la cantidad de celdas por corte\n",
    "sjl_hexs['dur_nn_market_walk_bins'].value_counts()"
   ]
  },
  {
   "cell_type": "code",
   "execution_count": null,
   "metadata": {},
   "outputs": [],
   "source": [
    "# Visualize results\n",
    "sjl_hexs.plot(\n",
    "    column='dur_nn_market_walk_bins',\n",
    "    cmap='magma_r',\n",
    "    legend=True, \n",
    "    figsize=(5,7.5)\n",
    ")\n",
    "plt.show()"
   ]
  },
  {
   "cell_type": "code",
   "execution_count": null,
   "metadata": {},
   "outputs": [],
   "source": [
    "sjl_hexs = sjl_hexs.rename(columns={0:'hex'}) # format"
   ]
  },
  {
   "cell_type": "code",
   "execution_count": null,
   "metadata": {},
   "outputs": [],
   "source": [
    "sjl_hexs.drop('dur_nn_market_walk_bins', axis=1).to_file('outputs/sjl_hex.geojson', driver='GeoJSON') # save results"
   ]
  },
  {
   "cell_type": "code",
   "execution_count": null,
   "metadata": {},
   "outputs": [],
   "source": [
    "sjl_hexs = gpd.read_file('outputs/sjl_hex.geojson', driver='GeoJSON')"
   ]
  },
  {
   "cell_type": "code",
   "execution_count": null,
   "metadata": {},
   "outputs": [],
   "source": [
    "from mapboxkey import MAPBOX_API_KEY"
   ]
  },
  {
   "cell_type": "code",
   "execution_count": null,
   "metadata": {},
   "outputs": [],
   "source": [
    "import plotly.express as px\n",
    "px.set_mapbox_access_token(MAPBOX_API_KEY)\n",
    "fig = px.choropleth_mapbox(\n",
    "    sjl_hexs.reset_index(), geojson=sjl_hexs.geometry.__geo_interface__, locations='index', \n",
    "    color='population_2020',\n",
    "    color_continuous_scale='viridis',\n",
    "    mapbox_style=\"streets\",\n",
    "    zoom=11, \n",
    "    center = {\n",
    "       \"lat\": sjl_hexs.geometry.unary_union.centroid.y,\n",
    "       \"lon\": sjl_hexs.geometry.unary_union.centroid.x\n",
    "    },\n",
    "    opacity=0.3,\n",
    "    labels={\n",
    "        'population_2020': 'Población Estimada 2020',\n",
    "        'n_markets': '# de mercados'\n",
    "    },\n",
    "    hover_data = ['n_markets']\n",
    ")\n",
    "fig.update_layout(mapbox_bearing=-50, \n",
    "                  margin={\"r\":0,\"t\":0,\"l\":0,\"b\":0})\n",
    "fig.show()"
   ]
  },
  {
   "cell_type": "code",
   "execution_count": null,
   "metadata": {},
   "outputs": [],
   "source": [
    "fig = px.choropleth_mapbox(\n",
    "    sjl_hexs.reset_index(), geojson=sjl_hexs.geometry.__geo_interface__, locations='index', \n",
    "    color='dur_nn_market_walk',\n",
    "    color_continuous_scale='magma_r',\n",
    "    mapbox_style=\"carto-positron\",\n",
    "    zoom=11, \n",
    "    center = {\n",
    "       \"lat\": sjl_hexs.geometry.unary_union.centroid.y,\n",
    "       \"lon\": sjl_hexs.geometry.unary_union.centroid.x\n",
    "    },\n",
    "    opacity=0.3,\n",
    "    labels={\n",
    "        'dur_nn_market_walk': 'Duración',\n",
    "        'dist_nn_market_walk': 'Distancia',\n",
    "        'n_markets': '# de mercados'\n",
    "    },\n",
    "    hover_data = ['dur_nn_market_walk', 'dist_nn_market_walk', 'n_markets']\n",
    ")\n",
    "fig.update_layout(mapbox_bearing=-50, \n",
    "                  margin={\"r\":0,\"t\":0,\"l\":0,\"b\":0})\n",
    "fig.show()"
   ]
  },
  {
   "cell_type": "markdown",
   "metadata": {},
   "source": [
    "## Resultados del modelo FLP"
   ]
  },
  {
   "cell_type": "code",
   "execution_count": null,
   "metadata": {},
   "outputs": [],
   "source": [
    "flp_data = gpd.read_file('/Users/cortega/Documents/COVID-19/streamlit-market-location-covid19/inputs/flp_sjl/selected_facilities_sjl.shp')"
   ]
  },
  {
   "cell_type": "code",
   "execution_count": null,
   "metadata": {},
   "outputs": [],
   "source": [
    "flp_data = flp_data.to_crs('EPSG:4326')"
   ]
  },
  {
   "cell_type": "code",
   "execution_count": null,
   "metadata": {},
   "outputs": [],
   "source": [
    "flp_data.head()"
   ]
  },
  {
   "cell_type": "markdown",
   "metadata": {},
   "source": [
    "## Filtramos los mercados temporales (parques y lozas)"
   ]
  },
  {
   "cell_type": "code",
   "execution_count": null,
   "metadata": {},
   "outputs": [],
   "source": [
    "active_temporal_markets = flp_data[(flp_data['is_market']==0) & (flp_data['active']==1)]"
   ]
  },
  {
   "cell_type": "markdown",
   "metadata": {},
   "source": [
    "### Obtenemos el poligono correspondiente para cada observacion"
   ]
  },
  {
   "cell_type": "code",
   "execution_count": null,
   "metadata": {},
   "outputs": [],
   "source": [
    "active_temporal_markets_poly = gpd.sjoin(\n",
    "    parques_lozas,\n",
    "    active_temporal_markets,\n",
    "    how='inner',\n",
    "    op='intersects'\n",
    ")"
   ]
  },
  {
   "cell_type": "code",
   "execution_count": null,
   "metadata": {},
   "outputs": [],
   "source": [
    "addresses = gpd.tools.geocoding.reverse_geocode(\n",
    "    points=gpd.points_from_xy(active_temporal_markets_poly['lon'], active_temporal_markets_poly['lat']),\n",
    "    provider='Nominatim',\n",
    ")"
   ]
  },
  {
   "cell_type": "code",
   "execution_count": null,
   "metadata": {},
   "outputs": [],
   "source": [
    "active_temporal_markets_poly['address'] = addresses['address'].values"
   ]
  },
  {
   "cell_type": "code",
   "execution_count": null,
   "metadata": {},
   "outputs": [],
   "source": [
    "active_temporal_markets_poly.head()"
   ]
  },
  {
   "cell_type": "markdown",
   "metadata": {},
   "source": [
    "## Filtramos los mercados actuales"
   ]
  },
  {
   "cell_type": "code",
   "execution_count": null,
   "metadata": {},
   "outputs": [],
   "source": [
    "import numpy as np"
   ]
  },
  {
   "cell_type": "code",
   "execution_count": null,
   "metadata": {},
   "outputs": [],
   "source": [
    "import plotly.graph_objects as go"
   ]
  },
  {
   "cell_type": "markdown",
   "metadata": {},
   "source": [
    "## Obtenemos la poblacion en los hexagonos cercanos al mercado"
   ]
  },
  {
   "cell_type": "code",
   "execution_count": null,
   "metadata": {},
   "outputs": [],
   "source": [
    "pop_by_market = sjl_hexs.groupby('nn_market')['population_2020'].sum()"
   ]
  },
  {
   "cell_type": "code",
   "execution_count": null,
   "metadata": {},
   "outputs": [],
   "source": [
    "sjl_old_markets['pop_by_market'] = 0\n",
    "for ix, value in pop_by_market.iteritems():\n",
    "    sjl_old_markets['pop_by_market'].iloc[ix] = value"
   ]
  },
  {
   "cell_type": "code",
   "execution_count": null,
   "metadata": {},
   "outputs": [],
   "source": [
    "sjl_old_markets['pop_by_market'].hist()"
   ]
  },
  {
   "cell_type": "markdown",
   "metadata": {},
   "source": [
    "### Obtenemos el aforo de cada mercado"
   ]
  },
  {
   "cell_type": "code",
   "execution_count": null,
   "metadata": {},
   "outputs": [],
   "source": [
    "market_db = pd.read_csv('/Users/cortega/Documents/COVID-19/urbanpy/notebooks/input/market_db.csv')\n",
    "market_db = gpd.GeoDataFrame(market_db, geometry=gpd.points_from_xy(market_db['longitude'], market_db['latitude']))\n",
    "market_db.crs = 'EPSG:4326'"
   ]
  },
  {
   "cell_type": "code",
   "execution_count": null,
   "metadata": {},
   "outputs": [],
   "source": [
    "market_db_sjl = market_db[market_db.within(sjl_poly.geometry[0])]"
   ]
  },
  {
   "cell_type": "code",
   "execution_count": null,
   "metadata": {},
   "outputs": [],
   "source": [
    "market_db_sjl.shape"
   ]
  },
  {
   "cell_type": "code",
   "execution_count": null,
   "metadata": {},
   "outputs": [],
   "source": [
    "sjl_old_markets.shape"
   ]
  },
  {
   "cell_type": "code",
   "execution_count": null,
   "metadata": {},
   "outputs": [],
   "source": [
    "sjl_old_markets.head()"
   ]
  },
  {
   "cell_type": "code",
   "execution_count": null,
   "metadata": {},
   "outputs": [],
   "source": [
    "sjl_old_markets_merged = pd.merge(\n",
    "    sjl_old_markets,\n",
    "    market_db_sjl[['NOMBRE_MERCADO', 'latitude','longitude','Tipo de mercado', 'Area construida']],\n",
    "    how='left',\n",
    "    left_on = ['lat', 'lon'],\n",
    "    right_on=['latitude', 'longitude']\n",
    ")"
   ]
  },
  {
   "cell_type": "code",
   "execution_count": null,
   "metadata": {},
   "outputs": [],
   "source": [
    "sjl_old_markets_merged['aforo'] = sjl_old_markets_merged.apply(\n",
    "    lambda row: row['Area construida']*2 if row['Tipo de mercado']=='Minorista' else row['Area construida']*5,\n",
    "    axis=1\n",
    ")"
   ]
  },
  {
   "cell_type": "code",
   "execution_count": null,
   "metadata": {},
   "outputs": [],
   "source": [
    "sjl_old_markets_merged['aforo'].describe()"
   ]
  },
  {
   "cell_type": "code",
   "execution_count": null,
   "metadata": {},
   "outputs": [],
   "source": [
    "sjl_old_markets_merged['aforo_scaled'] = ((sjl_old_markets_merged['aforo'] - sjl_old_markets_merged['aforo'].min() )\n",
    " / (sjl_old_markets_merged['aforo'].max() - sjl_old_markets_merged['aforo'].min())) * 20 + 10"
   ]
  },
  {
   "cell_type": "code",
   "execution_count": null,
   "metadata": {},
   "outputs": [],
   "source": [
    "sjl_old_markets_merged['aforo_scaled'].hist()"
   ]
  },
  {
   "cell_type": "code",
   "execution_count": null,
   "metadata": {},
   "outputs": [],
   "source": [
    "sjl_old_markets_merged = sjl_old_markets_merged.dropna()"
   ]
  },
  {
   "cell_type": "code",
   "execution_count": null,
   "metadata": {},
   "outputs": [],
   "source": [
    "sjl_old_markets_merged.head()"
   ]
  },
  {
   "cell_type": "code",
   "execution_count": null,
   "metadata": {},
   "outputs": [],
   "source": [
    "sjl_old_markets_merged.to_file('sjl_old_markets_merged.geojson', driver='GeoJSON')"
   ]
  },
  {
   "cell_type": "code",
   "execution_count": null,
   "metadata": {},
   "outputs": [],
   "source": [
    "active_temporal_markets_poly.head()"
   ]
  },
  {
   "cell_type": "code",
   "execution_count": null,
   "metadata": {},
   "outputs": [],
   "source": [
    "active_temporal_markets_poly.to_file('active_temporal_markets_poly.geojson', driver='GeoJSON')"
   ]
  },
  {
   "cell_type": "code",
   "execution_count": null,
   "metadata": {},
   "outputs": [],
   "source": [
    "fig = go.Figure()\n",
    "\n",
    "fig.add_trace(\n",
    "    go.Scattermapbox(\n",
    "        name='Mercados',\n",
    "        customdata=sjl_old_markets_merged[['NOMBRE_MERCADO', 'aforo']],\n",
    "        lat=sjl_old_markets_merged.lat,\n",
    "        lon=sjl_old_markets_merged.lon,\n",
    "        mode='markers',\n",
    "        marker=go.scattermapbox.Marker(\n",
    "            size=sjl_old_markets_merged['aforo_scaled'],\n",
    "            sizemin=10,\n",
    "            color='orange',\n",
    "            opacity=0.5,\n",
    "        ),\n",
    "        line={'color': 'black', 'width':50},\n",
    "        hovertemplate='Nombre:%{customdata[0]} <br><b>Aforo:%{customdata[1]}} ',\n",
    "        showlegend=True,\n",
    "    )\n",
    ")\n",
    "\n",
    "fig.add_trace(\n",
    "    go.Choroplethmapbox(\n",
    "        name='Potenciales mercados itinerantes',\n",
    "        customdata=active_temporal_markets_poly['address'],\n",
    "        geojson=active_temporal_markets_poly.geometry.__geo_interface__,\n",
    "        locations=active_temporal_markets_poly.index, z=active_temporal_markets_poly.active,\n",
    "        colorscale=[[0, 'rgb(0,255,0)'], [1,'rgb(0,255,0)']],\n",
    "        showscale=False, \n",
    "        showlegend=True,\n",
    "        marker_opacity=1, marker_line_width=3, marker_line_color='rgb(0,200,0)',\n",
    "        hovertemplate='Dirección:%{customdata}',\n",
    "    )\n",
    ")\n",
    "\n",
    "fig.update_layout(\n",
    "    legend={'orientation': 'h'},\n",
    "    mapbox=dict(\n",
    "        accesstoken='pk.eyJ1IjoiY2xhdWRpbzk3IiwiYSI6ImNqbzM2NmFtMjB0YnUzd3BvenZzN3QzN3YifQ.heZHwQTY8TWhuO0u2-BxxA',\n",
    "        center=dict(\n",
    "            lat=-12.022,\n",
    "            lon=-76.998,\n",
    "        ),\n",
    "        pitch=0,\n",
    "        bearing=-50,\n",
    "        zoom=14,\n",
    "        style='carto-positron'\n",
    "    ),\n",
    ")\n",
    "\n",
    "fig.show()"
   ]
  },
  {
   "cell_type": "code",
   "execution_count": null,
   "metadata": {},
   "outputs": [],
   "source": []
  }
 ],
 "metadata": {
  "kernelspec": {
   "display_name": "Python 3 (vulne_lima_env)",
   "language": "python",
   "name": "vulne_lima"
  },
  "language_info": {
   "codemirror_mode": {
    "name": "ipython",
    "version": 3
   },
   "file_extension": ".py",
   "mimetype": "text/x-python",
   "name": "python",
   "nbconvert_exporter": "python",
   "pygments_lexer": "ipython3",
   "version": "3.7.3"
  }
 },
 "nbformat": 4,
 "nbformat_minor": 4
}
